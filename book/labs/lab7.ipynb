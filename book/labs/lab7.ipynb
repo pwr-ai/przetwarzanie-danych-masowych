{
 "cells": [
  {
   "cell_type": "markdown",
   "metadata": {},
   "source": [
    "# Laboratorium 7\n",
    "\n",
    "## Wykorzystanie Flink"
   ]
  },
  {
   "cell_type": "markdown",
   "metadata": {},
   "source": [
    "### Linki\n",
    "\n",
    "* [Flink Docs](https://nightlies.apache.org/flink/flink-docs-release-1.2/)\n",
    "* [PyFLink](https://nightlies.apache.org/flink/flink-docs-release-1.14/docs/dev/python/datastream_tutorial/)"
   ]
  },
  {
   "cell_type": "markdown",
   "metadata": {},
   "source": [
    "\n",
    "## Zadanie 7.0 \n",
    "\n",
    "* Zainstaluj lokalnie narzędzia [pyenv](https://github.com/pyenv/pyenv) oraz poetry (```curl -sSL https://raw.githubusercontent.com/python-poetry/poetry/master/install-poetry.py | python - ```),\n",
    "* Zainstaluj odpowiednią wersję pythona ``` pyenv install 3.8.12 ``` oraz ją uruchom ``` pyenv shell 3.8.12 ```,\n",
    "* Zainstaluj zależności ``` poetry install ```, \n",
    "* Uruchom poetry shell ``` poetry shell ```,\n",
    "* Uruchom sample ``` python lab7_2021_base/sample.py ```"
   ]
  },
  {
   "cell_type": "markdown",
   "metadata": {},
   "source": [
    "\n",
    "\n",
    "## Zadanie 7.1 (4 pkt) \n",
    "\n",
    "Przygotuj środowisko do uruchomienia aplikacji Flink z zastosowaniem Dockera. Wykorzystaj multi-stage builds. Pamiętaj o zweryfikowaniu pobranej dystrybucji Flinka."
   ]
  },
  {
   "cell_type": "markdown",
   "metadata": {},
   "source": [
    "## Zadanie 7.2 (4 pkt)\n",
    "\n",
    "Stwórz przykładową aplikację Flink, która wygeneruje 10 000 000 losowych liczb double oraz zapisze je do pliku"
   ]
  },
  {
   "cell_type": "markdown",
   "metadata": {},
   "source": [
    "## Zadanie 7.3 (5 pkt)\n",
    "\n",
    "Stwórz aplikację Flink, która wygeneruje 1 000 000 losowych stringów o losowej długości z zadanego (konfigurowalnego przedziału), następnie zapisz je na dysku. Stwórz kolejną aplikację która wczyta zapisane date oraz policzy liczbe znaków."
   ]
  },
  {
   "cell_type": "markdown",
   "metadata": {},
   "source": [
    "## Zadanie 7.4 (2 pkt)\n",
    "\n",
    "Uruchom zadanie 2 z wykorzystaniem EMR."
   ]
  },
  {
   "cell_type": "markdown",
   "metadata": {},
   "source": [
    "## Zadanie 7.5 (1 pkt)\n",
    "\n",
    "Zapoznaj się ze Web-UI Flinka, dodaj odpowiednie mapowanie portów do docker-compose.yaml tak by uzyskać do niego dostęp. "
   ]
  },
  {
   "cell_type": "markdown",
   "metadata": {},
   "source": [
    "## Zadanie 7.6 (1 pkt)  -  zadanie opcjonalne\n",
    "\n",
    "Stwórz kolejną aplikację która policzy liczbę słów w zadanym dodatkowym źródle danych. Znajdź dowolne źródło oraz przygotuj skrypt bash który je pobierze oraz umożliwi przetwarzanie za pomocą przygotowanej aplikacji.\n"
   ]
  }
 ],
 "metadata": {
  "kernelspec": {
   "display_name": "Python 3 (ipykernel)",
   "language": "python",
   "name": "python3"
  },
  "language_info": {
   "codemirror_mode": {
    "name": "ipython",
    "version": 3
   },
   "file_extension": ".py",
   "mimetype": "text/x-python",
   "name": "python",
   "nbconvert_exporter": "python",
   "pygments_lexer": "ipython3",
   "version": "3.9.7-final"
  }
 },
 "nbformat": 4,
 "nbformat_minor": 5
}