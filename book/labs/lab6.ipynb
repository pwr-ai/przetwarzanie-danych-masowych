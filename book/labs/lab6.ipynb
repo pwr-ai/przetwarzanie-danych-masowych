{
 "cells": [
  {
   "cell_type": "markdown",
   "metadata": {},
   "source": [
    "# Laboratorium 6\n",
    "\n",
    "## Wykorzystanie Spark w trybie wsadowym"
   ]
  },
  {
   "cell_type": "markdown",
   "metadata": {},
   "source": [
    "### Linki\n",
    "\n",
    "* [Apache Spark internals](https://books.japila.pl/apache-spark-internals/overview/)\n",
    "* [Mastering Spark SQL](https://jaceklaskowski.gitbooks.io/mastering-spark-sql/content/)\n",
    "* [Spark Docs](https://spark.apache.org/docs/latest/quick-start.html)"
   ]
  },
  {
   "cell_type": "markdown",
   "metadata": {},
   "source": [
    "Dokładnie zpoznaj się z repozytorium, znajdziesz tam pytania w postaci komentarzy w plikach źródłowych"
   ]
  },
  {
   "cell_type": "markdown",
   "metadata": {},
   "source": [
    "\n",
    "\n",
    "## Zadanie 6.1 (4 pkt) \n",
    "\n",
    "Przygotuj środowisko do uruchomienia Sparka z zastosowaniem Dockera. Wykorzystaj multi-stage builds. Pamiętaj o zweryfikowaniu pobranej dystrybucji sparka."
   ]
  },
  {
   "cell_type": "markdown",
   "metadata": {},
   "source": [
    "## Zadanie 6.2 (4 pkt)\n",
    "\n",
    "Stwórz przykładową aplikację Spark, która wygeneruje 10 000 000 losowych liczb double w 10 partycjach. Stwórz na początku listę 10 liczb, z wykorzystaniem sparka dokonaj rozproszenia, zmapuj każdą partycję na odpowiednią liczbę losowych doubli. W jaki sposób zainicjować generator liczb losowych tak aby liczby były losowe oraz mieć pewność że nie trafimy na sytuację gdy dwie partycje mają taki sam seed (sygnatura funkcji mapowania zawiera potrzebny seed), dlaczego należy tak robić?"
   ]
  },
  {
   "cell_type": "markdown",
   "metadata": {},
   "source": [
    "## Zadanie 6.3 (5 pkt)\n",
    "\n",
    "Stwórz aplikację spark, która wygeneruje 1 000 000 losowych stringów o losowej długości z zadanego (konfigurowalnego przedziału), następnie zapisz je na dysku. Stwórz kolejną aplikację która wczyta zapisane date oraz policzy liczbe znaków."
   ]
  },
  {
   "cell_type": "markdown",
   "metadata": {},
   "source": [
    "## Zadanie 6.4 (2 pkt)\n",
    "\n",
    "Uruchom zadanie 2 z wykorzystaniem EMR."
   ]
  },
  {
   "cell_type": "markdown",
   "metadata": {},
   "source": [
    "## Zadanie 6.5 (1 pkt)\n",
    "\n",
    "Zapoznaj się ze Spark-UI, dodaj odpowiednie mapowanie portów do docker-compose.yaml tak by uzyskać do niego dostęp. Znajdź stronę na której widać DAG dla zadania 3."
   ]
  },
  {
   "cell_type": "markdown",
   "metadata": {},
   "source": [
    "## Zadanie 6.6 (1 pkt)\n",
    "\n",
    "Dodaj konfigurację która sprawi że nie będziemy widzieć logów o poziomie mniejszym niż warning ze sparka.\n",
    "Skonfiguruj SBT aby budowało naszą aplikację jako fat-jar (dlaczego należy to robić? czy trzeba to robić w naszym wypadku? [pomyśl o zależnościach])."
   ]
  },
  {
   "cell_type": "markdown",
   "metadata": {},
   "source": [
    "## Zadanie 6.7 (2 pkt)  -  zadanie opcjonalne\n",
    "\n",
    "Stwórz kolejną aplikację która policzy liczbę słów w zadanym dodatkowym źródle danych. Znajdź dowolne źródło oraz przygotuj skrypt bash który je pobierze oraz umożliwi przetwarzanie za pomocą przygotowanej aplikacji.\n"
   ]
  }
 ],
 "metadata": {
  "kernelspec": {
   "display_name": "Python 3 (ipykernel)",
   "language": "python",
   "name": "python3"
  },
  "language_info": {
   "codemirror_mode": {
    "name": "ipython",
    "version": 3
   },
   "file_extension": ".py",
   "mimetype": "text/x-python",
   "name": "python",
   "nbconvert_exporter": "python",
   "pygments_lexer": "ipython3",
   "version": "3.9.7-final"
  }
 },
 "nbformat": 4,
 "nbformat_minor": 5
}