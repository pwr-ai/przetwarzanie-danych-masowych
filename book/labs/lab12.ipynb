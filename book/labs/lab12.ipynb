{
 "cells": [
  {
   "cell_type": "markdown",
   "id": "ccc7a647",
   "metadata": {},
   "source": [
    "# Laboratorium 12\n",
    "\n",
    "## Uruchomienie opracowanej metody z wykorzystaniem środowiska Kubernetes"
   ]
  },
  {
   "cell_type": "markdown",
   "id": "38adc9cc",
   "metadata": {},
   "source": [
    "Przypomnijmy diagram planowanego systemu:\n",
    "![image](../data/project_flow_chart_L10.png)\n",
    "\n",
    "W trakcie obecnego laboratorium zaczniemy prace nad Etapem IV.\n",
    "\n",
    "Wykorzystując poznane narzędzie Helm oraz platformę Kubernetes opracujemy chart Helmowy dla naszego systemu."
   ]
  },
  {
   "cell_type": "markdown",
   "id": "b025dfbf",
   "metadata": {},
   "source": [
    "### Zadanie 12.1: Przygotowanie charta Helmowego (12 pkt)\n",
    "W poniższych zadaniach kompletnie pomijamy komponenty z Etapu III!\n",
    "\n",
    "a) Sprawdź, które komponenty opracowanej aplikacji (`service` w Docker-Compose) są dostępne jako gotowe charty Helmowe.\n",
    "\n",
    "b) Dla pozostałych komponentów przygotuj obrazy Dockerowe - m.in. mechanizm pobierania danych z Etapu I oraz Detekcja języka, Wektoryzacja tekstu i zapis do bazy danych z Etapu II. Następnie wybierz jedną z opcji:\n",
    "- A: udostępnij obrazy na platformie Docker Hub\n",
    "- B: zbuduj obrazy na maszynach typu worker w ramach, utworzonego podczas ostatnich zajęć, klastra K3s\n",
    "\n",
    "c) W repozytorium utwórz chart Helmowy dla naszej aplikacji:\n",
    "- dodaj gotowe charty komponentów z punktu a)\n",
    "- dla każdego komponentu z punktu b) utwórz odpowiednie szablony Helmowe (deployment, service, configmap itd. - w zależności od potrzeb)\n",
    "- zadbaj o wolumeny danych (dla uproszczenia użyj `hostPath`, ale pamiętaj, że w rzeczywistych zastosowaniach należy użyć odpowiedniej Storage Classy, np. EBS, Cinder, NFS)\n",
    "\n",
    "\n",
    "d) Do odpowiednich komponentów dodaj próbki liveness and readiness, które pozwolą sprawdzić Kubernetesowi czy aplikacja nadal działa poprawnie."
   ]
  },
  {
   "cell_type": "markdown",
   "id": "347104da",
   "metadata": {},
   "source": [
    "### Zadanie 12.2: Wdrożenie aplikacji (3 pkt)\n",
    "- Zainstaluj przygotowany chart Helmowy w klastrze K3s\n",
    "- Sprawdź czy wszystko działa poprawnie\n",
    "- Zmień wybraną wartość w pliku `values.yaml` (np. liczba replik komponentu detekcji języka)\n",
    "- Przeprowadź rolling update\n",
    "- Sprawdź czy zmiana została poprawnie zaaplikowana\n",
    "- Odwróć zmiany i wróć do poprzedniej wersji aplikacji (rollback)"
   ]
  },
  {
   "cell_type": "markdown",
   "id": "ac1f92e9",
   "metadata": {},
   "source": [
    "### Zadanie 12.3: Poprawność działania aplikacji (3 pkt)\n",
    "- Sprawdź, że dane są zbierane na bieżąco\n",
    "- Pokaż, że Grafana działa i wyświetla dane na bieżąco\n",
    "- Pokaż, że Redash działa i wyświetla dane na bieżąco"
   ]
  }
 ],
 "metadata": {
  "kernelspec": {
   "display_name": "Python 3 (ipykernel)",
   "language": "python",
   "name": "python3"
  },
  "language_info": {
   "codemirror_mode": {
    "name": "ipython",
    "version": 3
   },
   "file_extension": ".py",
   "mimetype": "text/x-python",
   "name": "python",
   "nbconvert_exporter": "python",
   "pygments_lexer": "ipython3",
   "version": "3.7.10"
  }
 },
 "nbformat": 4,
 "nbformat_minor": 5
}
