{
 "cells": [
  {
   "cell_type": "markdown",
   "id": "17ced646",
   "metadata": {},
   "source": [
    "# Laboratorium 5\n",
    "\n",
    "## Wykorzystanie przetwarzania opartego o broker wiadomości"
   ]
  },
  {
   "cell_type": "code",
   "execution_count": null,
   "id": "d3268f4e",
   "metadata": {},
   "outputs": [],
   "source": []
  },
  {
   "cell_type": "markdown",
   "id": "2eed194e",
   "metadata": {},
   "source": [
    "## Zadanie 5.1 (4 pkt) \n",
    "\n",
    "Przygotuj środowisko do użycia biblioteki Celery z brokerem wiadomości RabbitMQ. Zbuduj odpowiednie obrazy Dockera i zainstaluj potrzebne paczki\n",
    "\n",
    "Stwórz task Celery który będzie zwracał losowy numer z przedziału [0; 200]\n",
    "\n",
    "Uruchom skrypt który wygeneruje asynchronicznie 100 losowych numerów używając w/w taska "
   ]
  },
  {
   "cell_type": "markdown",
   "id": "ca7e444c",
   "metadata": {},
   "source": [
    "## Zadanie 5.2 (5 pkt)\n",
    "\n",
    "Stwórz task Celery, który będzie:\n",
    "\n",
    "a) przyjmował jako parametr numer `n` \n",
    "\n",
    "b) pobierał losowy artykuł z polskiej Wikipedii - dostęp pod linkiem [https://pl.wikipedia.org/wiki/Special:Random](https://pl.wikipedia.org/wiki/Special:Random). Użyj odpowiednich bibliotek do scrapowania, by uzyskać samą treść artykułu - np. [Requests](https://pypi.org/project/requests/) i [BeautifulSoup](https://pypi.org/project/beautifulsoup4/)\n",
    "\n",
    "c) zwracał `n-te` słowo z pobranego artykułu"
   ]
  },
  {
   "cell_type": "markdown",
   "id": "d07c4dda",
   "metadata": {},
   "source": [
    "## Zadanie 5.3 (3 pkt)\n",
    "\n",
    "Stwórz task Celery, który będzie:\n",
    "\n",
    "a) przyjmował jako parametr słowo\n",
    "\n",
    "b) zapisywał je do pliku tekstowego w formie \"poematu\" (5 słów per linia)\n",
    "\n",
    "Pamiętaj o zachowaniu odpowiedniego mechanizmu dostępu do współdzielonego pliku (lock)!"
   ]
  },
  {
   "cell_type": "markdown",
   "id": "d2afb304",
   "metadata": {},
   "source": [
    "## Zadanie 5.4 (1 pkt)\n",
    "\n",
    "Zestaw stworzone wyżej taski w jeden potok przetwarzania i uruchom go. Przeskaluj  używając kilku workerów jednocześnie. "
   ]
  },
  {
   "cell_type": "markdown",
   "id": "136a1aec",
   "metadata": {},
   "source": [
    "## Zadanie 5.5 (1 pkt)\n",
    "\n",
    "Użyj narzędzia Flower, by monitorować pracę systemu, ilość workerów i stan kolejek"
   ]
  },
  {
   "cell_type": "markdown",
   "id": "0db4b21f",
   "metadata": {},
   "source": [
    "## Zadanie 5.6 (2 pkt)  -  zadanie opcjonalne\n",
    "\n",
    "Wykonaj ponownie zadanie 5.2, używając innego niż Python języka programowania. Języki wspierające Celery to mn. [PHP](https://github.com/gjedeer/celery-php), [nodeJS](https://github.com/node-celery-ts/node-celery-ts) oraz sporo eksperymentalnych klientów, np. [Java](https://github.com/crabhi/celery-java).\n"
   ]
  },
  {
   "cell_type": "code",
   "execution_count": null,
   "id": "c50ea6e4",
   "metadata": {},
   "outputs": [],
   "source": []
  }
 ],
 "metadata": {
  "kernelspec": {
   "display_name": "Python 3 (ipykernel)",
   "language": "python",
   "name": "python3"
  },
  "language_info": {
   "codemirror_mode": {
    "name": "ipython",
    "version": 3
   },
   "file_extension": ".py",
   "mimetype": "text/x-python",
   "name": "python",
   "nbconvert_exporter": "python",
   "pygments_lexer": "ipython3",
   "version": "3.9.7"
  }
 },
 "nbformat": 4,
 "nbformat_minor": 5
}
