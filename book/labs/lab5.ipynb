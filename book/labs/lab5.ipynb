{
 "cells": [
  {
   "cell_type": "markdown",
   "id": "db2bf452",
   "metadata": {},
   "source": [
    "# Laboratorium 5\n",
    "\n",
    "## Wykorzystanie przetwarzania opartego o broker wiadomości"
   ]
  },
  {
   "cell_type": "markdown",
   "id": "4d741b7b",
   "metadata": {},
   "source": [
    "Podczas ostatniego laboratorium przećwiczyliśmy metody zrównoleglania oparte o wątki i procesy. Pozwalają one uruchamiać kod równolegle w obrębie jednego systemu.\n",
    "\n",
    "Jedną z najpopularniejszych metod zrównoleglania pozwalającą na użycie wielu maszyn jest przetwarzanie oparte o broker wiadomości (ang. _message passing_). Pozwala ono na wykonywanie zadań w trybie asynchronicznym, dzięki czemu jest idealnym rozwiązaniem do implementacji architektury opartej o mikroserwisy."
   ]
  },
  {
   "cell_type": "markdown",
   "id": "41e7929a",
   "metadata": {},
   "source": [
    "**Podstawowe pojęcia**\n",
    "- wiadomość - tekstowa porcja informacji przekazywana pomiędzy elementami systemu, najczęściej w formacie JSON\n",
    "- kolejka - lista wiadomości\n",
    "- producent - skrypt który generuje wiadomości i publikuje je do kolejki\n",
    "- konsument - skrypt który przetwarza wiadomości, ściągając je z kolejki\n",
    "- broker wiadomości - system zarządzający kolejkami i przesyłem wiadomości. Najpopularniejsze to [RabbitMQ](https://www.rabbitmq.com/) lub [Kafka](https://kafka.apache.org/), ale istnieje wiele możliwych rozwiązań\n"
   ]
  },
  {
   "cell_type": "markdown",
   "id": "7de256b0",
   "metadata": {},
   "source": [
    "**Zalety systemów kolejkowych**\n",
    "- łatwość implementacji i mniejsza szansa na popełnienienie błędów niz w podejściu ze współdzieleniem pamięci\n",
    "- działanie w trybie asynchronicznym\n",
    "- możliwość wykorzystania wielu maszyn lub klastrów\n",
    "- możliwość złączenia skryptów w różnych językach\n",
    "- enkapsulacja i izolacja zadań i zasobów\n",
    "- mnogość konfiguracji routingu (np. implementacja wzorca EventBus)\n",
    "\n",
    "\n",
    "**Wady systemów kolejkowych**\n",
    "- narzut czasowy i zasobowy na komunikację "
   ]
  },
  {
   "cell_type": "markdown",
   "id": "0408b499",
   "metadata": {},
   "source": [
    "## Message Passing w Pythonie\n",
    "\n",
    "Najpopularniejszy broker, RabbitMQ, używa do komunikacji protokołu AMQP (ang. Asynchronous Message Queuing Protocol), który jest implementowany przez mnogość bibliotek - np. [pika](https://pypi.org/project/pika/)\n",
    "\n",
    "Polecaną biblioteką do obsługi komunikacji opartej o wiadomości jest [Celery](https://pypi.org/project/celery/). Jest warstwą abstrakcji nad brokerami, umożliwiając w łatwy sposób definiowanie zadań, uruchamianie workerów i kontrolę nad przepływem wiadomości w systemie. Posiada także możliwość wpięcia różnych od RabbitMQ brokerów - np. Redisa, baz SQL, Memcache czy Cassandry. "
   ]
  },
  {
   "cell_type": "markdown",
   "id": "37facced",
   "metadata": {},
   "source": [
    "## Zadanie 5.1 (4 pkt) \n",
    "\n",
    "Przygotuj środowisko do użycia biblioteki Celery z brokerem wiadomości RabbitMQ. Zbuduj odpowiednie obrazy Dockera i zainstaluj potrzebne paczki\n",
    "\n",
    "Stwórz task Celery który będzie zwracał losowy numer z przedziału [0; 200]\n",
    "\n",
    "Uruchom skrypt który wygeneruje asynchronicznie 100 losowych numerów używając w/w taska "
   ]
  },
  {
   "cell_type": "markdown",
   "id": "e12ae0df",
   "metadata": {},
   "source": [
    "## Zadanie 5.2 (5 pkt)\n",
    "\n",
    "Stwórz task Celery, który będzie:\n",
    "\n",
    "a) przyjmował jako parametr numer `n` \n",
    "\n",
    "b) pobierał losowy artykuł z polskiej Wikipedii - dostęp pod linkiem [https://pl.wikipedia.org/wiki/Special:Random](https://pl.wikipedia.org/wiki/Special:Random). Użyj odpowiednich bibliotek do scrapowania, by uzyskać samą treść artykułu - np. [Requests](https://pypi.org/project/requests/) i [BeautifulSoup](https://pypi.org/project/beautifulsoup4/)\n",
    "\n",
    "c) zwracał `n-te` słowo z pobranego artykułu"
   ]
  },
  {
   "cell_type": "markdown",
   "id": "05108123",
   "metadata": {},
   "source": [
    "## Zadanie 5.3 (3 pkt)\n",
    "\n",
    "Stwórz task Celery, który będzie:\n",
    "\n",
    "a) przyjmował jako parametr słowo\n",
    "\n",
    "b) zapisywał je do pliku tekstowego w formie \"poematu\" (5 słów per linia)\n",
    "\n",
    "Pamiętaj o zachowaniu odpowiedniego mechanizmu dostępu do współdzielonego pliku (lock)!"
   ]
  },
  {
   "cell_type": "markdown",
   "id": "451ad8b6",
   "metadata": {},
   "source": [
    "## Zadanie 5.4 (1 pkt)\n",
    "\n",
    "Zestaw stworzone wyżej taski w jeden potok przetwarzania i uruchom go. Przeskaluj worker obsługujący task scrapujący artykuły by używał 3 instancji"
   ]
  },
  {
   "cell_type": "markdown",
   "id": "f0dfdf7a",
   "metadata": {},
   "source": [
    "## Zadanie 5.5 (1 pkt)\n",
    "\n",
    "Użyj narzędzia Flower, by monitorować pracę systemu, ilość workerów i stan kolejek"
   ]
  },
  {
   "cell_type": "markdown",
   "id": "00707055",
   "metadata": {},
   "source": [
    "## Zadanie 5.6 (2 pkt)  -  zadanie opcjonalne\n",
    "\n",
    "Wykonaj ponownie zadanie 5.2, używając innego niż Python języka programowania. Języki wspierające Celery to mn. [PHP](https://github.com/gjedeer/celery-php), [nodeJS](https://github.com/node-celery-ts/node-celery-ts) oraz sporo eksperymentalnych klientów, np. [Java](https://github.com/crabhi/celery-java).\n"
   ]
  },
  {
   "cell_type": "code",
   "execution_count": null,
   "id": "c71a60f7",
   "metadata": {},
   "outputs": [],
   "source": []
  }
 ],
 "metadata": {
  "kernelspec": {
   "display_name": "Python 3 (ipykernel)",
   "language": "python",
   "name": "python3"
  },
  "language_info": {
   "codemirror_mode": {
    "name": "ipython",
    "version": 3
   },
   "file_extension": ".py",
   "mimetype": "text/x-python",
   "name": "python",
   "nbconvert_exporter": "python",
   "pygments_lexer": "ipython3",
   "version": "3.9.7"
  }
 },
 "nbformat": 4,
 "nbformat_minor": 5
}
