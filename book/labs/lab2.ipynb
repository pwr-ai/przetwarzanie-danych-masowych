{
 "cells": [
  {
   "cell_type": "markdown",
   "id": "753e603a",
   "metadata": {},
   "source": [
    "# Laboratorium 2\n",
    "## Podstawy wykorzystania infrastruktury chmurowej - Unix, Shell"
   ]
  },
  {
   "cell_type": "markdown",
   "id": "34acb58f",
   "metadata": {},
   "source": [
    "W trakcie zajęć laboratoryjnych będziemy pracować z różnymi narzędziami stosowanymi przy przetwarzaniu danych masowych. Wykorzystamy je, aby krok po kroku zbudować rozproszoną aplikację do zbierania i przetwarzania większych wolumenów danych, pochodzących z różnych źródeł. Będziemy również wdrażać tę aplikację na produkcyjnym środowisku. "
   ]
  },
  {
   "cell_type": "markdown",
   "id": "2c90998b",
   "metadata": {},
   "source": [
    "Zarówno na etapie rozwoju aplikacji, jak i jej późniejszego wdrożenia będziemy korzystać z usług chmurowych, a dokładniej z maszyn wirtualnych. Taki tryb pracy wymaga zapoznania się z podstawowymi mechanizmami w systemie Linux, który będzie używany na serwerach (maszynach wirtualnych). Jednymi z pierwszych aspektów, które poruszymy na tym laboratorium, jest obsługa powłoki (shell) Bash oraz praca z edytorami tekstowymi (tutaj: Vim)."
   ]
  },
  {
   "cell_type": "markdown",
   "id": "1e792022",
   "metadata": {},
   "source": [
    "## 1. Powłoka Bash"
   ]
  },
  {
   "cell_type": "markdown",
   "id": "9425aa9f",
   "metadata": {},
   "source": [
    "Najczęściej spotykaną powłoką w systemach z rodziny GNU/Linux jest **Bash** (ang. *Bourne-Again Shell*). Dostarcza ona wiele komend pozwalających na przeprowadzanie podstawowych operacji oraz interakcję z systemem (np. $\\texttt{cd}, \\texttt{pwd}, \\texttt{echo}$). \n",
    "\n",
    "Komendy można łączyć w większe programy, zwane w Bashu skryptami. Skrypty mają najczęściej rozszerzenie $\\texttt{.sh}$, ale jest to konwencja a nie wymaganie. Bash pozwoli uruchomić skrypt w pliku nie posiadającym żadnego rozszerzenia. Skrypty można uruchamiać na m.in. dwa sposoby: \n",
    "- `bash plik.sh`\n",
    "- `./plik.sh`\n",
    "\n",
    "W drugim przypadku wymagane jest dopisanie w pierwszej linii skryptu informacji jak uruchomić taki skrypt, tzw. *shebang*:\n",
    "\n",
    "```\n",
    "#!/usr/bin/env bash\n",
    "```\n",
    "\n",
    "lub\n",
    "\n",
    "```\n",
    "#!/bin/bash\n",
    "```\n",
    "\n",
    "Przy uruchamianiu skryptów za pomocą komendy `bash plik.sh` nie jest to wymagane, ale dopisywanie shebanga stanowi dobrą praktykę.\n",
    "\n",
    "Więcej szczegółowych informacji na temat Basha można znaleźć w jego oficjalnej dokumentacji: [https://www.gnu.org/software/bash/manual/bash.html](https://www.gnu.org/software/bash/manual/bash.html)"
   ]
  },
  {
   "cell_type": "markdown",
   "id": "88dba7b9",
   "metadata": {},
   "source": [
    "## Zadanie 1.1 (1 pkt)\n",
    "Napisz skrypt Bashowy, który **uruchomi w tle komendę** podaną jako argument do skryptu, tzn.\n",
    "```\n",
    "$ ./run-background.sh <command-to-run>\n",
    "```\n",
    "\n",
    "np.\n",
    "\n",
    "```\n",
    "$ ./run-background.sh \"sleep 10\"\n",
    "$ ./run-background.sh \"du -sh /home\"\n",
    "```\n",
    "\n",
    "W implementacji wykorzystaj polecenie `&`.\n",
    "\n",
    "Plik `run-background.sh`, w którym należy zaimplementować ten skrypt znajdziesz w repozytorium do tego laboratorium."
   ]
  },
  {
   "cell_type": "markdown",
   "id": "4ef51511",
   "metadata": {},
   "source": [
    "## Zadanie 1.2 (1 pkt)\n",
    "Napisz skrypt Bashowy, który **wyszuka i zakończy działanie komendy** podanej jako argument do skryptu, tzn.\n",
    "```\n",
    "$ ./kill.sh <command-to-kill>\n",
    "```\n",
    "\n",
    "np.\n",
    "\n",
    "```\n",
    "$ ./kill.sh \"sleep 10\"\n",
    "$ ./kill.sh \"du -sh /home\"\n",
    "```\n",
    "\n",
    "W implementacji wykorzystaj jedno lub kilka z następujących poleceń: `kill`, `killall`, `pidof`.\n",
    "\n",
    "Plik `kill.sh`, w którym należy zaimplementować ten skrypt znajdziesz w repozytorium do tego laboratorium."
   ]
  },
  {
   "cell_type": "markdown",
   "id": "650e4ec2",
   "metadata": {},
   "source": [
    "## Zadanie 1.3 (1 pkt)\n",
    "Napisz skrypt Bashowy, który **będzie filtrować dane pochodzące z losowego strumienia danych**. Wykorzystaj strumień `/dev/urandom` oraz komendy `sed` lub `tr`. Zaimplementuj filtrowanie w taki sposób, aby zwracać tylko znaki alfanumeryczne oraz wybrane 2-3 dodatkowe znaki.\n",
    "\n",
    "```\n",
    "$ ./filter.sh\n",
    "```"
   ]
  },
  {
   "cell_type": "markdown",
   "id": "20c60426",
   "metadata": {},
   "source": [
    "## 2. Połączenia SSH\n",
    "W celu połączenia się ze zdalnym serwerem (maszyną wirtualną) najczęściej wykorzystuje się protokół SSH (ang. *secure shell*). Podstawowa składnia stosowana do połączenia się z maszyną to:\n",
    "\n",
    "```bash\n",
    "ssh <użytkownik>@<adres-maszyny>\n",
    "```\n",
    "\n",
    "W przypadku adresu maszyny możemy podać zarówno adres IP maszyny, jak i adres domeny, który wskazuje na IP maszyny. \n",
    "\n",
    "Po wykonaniu komendy zostaniemy poproszeni o podanie hasła użytkownika na zdalnym serwerze. Bezpieczniejszą alternatywą jest wykorzystanie kluczy SSH, które możemy wskazać za pomocą argumentu `-i` do komendy `ssh`.\n",
    "\n",
    "Wykorzystując protokół ssh możemy nie tylko połączyć się do zdalnej maszyny, ale również kopiować pliki, np. z lokalnej maszyny na zdalny serwer. Wykorzystujemy w tym celu komendę `scp` (ang. *secure copy*)."
   ]
  },
  {
   "cell_type": "markdown",
   "id": "16dda807",
   "metadata": {},
   "source": [
    "## Zadanie 2.1 (2 pkt)\n",
    "Napisz skrypt Bashowy, który **skopiuje pliki podane jako argumenty skryptu z jednego serwera na drugi**. Powinna być możliwość opcjonalnej zmiany nazwy pliku. Składnia skryptu powinna być następująca:\n",
    "```\n",
    "$ ./copy.sh <użytkownik1@IP-maszyny-źródłowej:/ścieżka/do/plików/> <użytkownik2@IP-maszyny-docelowej:/ścieżka/do/plików> <plik-1>:<nowa-nazwa-pliku-1?> <plik-2>:<nowa-nazwa-pliku-2?> ... <plik-N>:<nowa-nazwa-pliku-N?>\n",
    "```\n",
    "\n",
    "Przykładowe wywołanie:\n",
    "```\n",
    "$ ./copy.sh bob@192.168.0.1:/home/bob alice@192.168.0.2:/tmp/ log.txt config.yaml:configuration.yaml\n",
    "```\n",
    "\n",
    "Powyższe polecenie skopiuje dwa pliki z maszyny o adresie `192.168.0.1` (logując się jako użytkownik `bob`) z katalogu `/home/bob` na maszynę o adresie `192.168.0.2` (logując się jako użytkownik `alice`) do katalogu `/tmp`. Pierwszy plik - `log.txt` - zostanie skopiowany bez zmian, natomiast w przypadku drugiego pliku - `config.yaml` - nazwa pliku powinna zostać zmieniona na `configuration.yaml`.\n",
    "\n",
    "Pamiętaj, aby skrypt obsługiwał zmienną liczbę nazw plików, tzn. można skopiować 1 plik, ale również 50."
   ]
  },
  {
   "cell_type": "markdown",
   "id": "95fcb76d",
   "metadata": {},
   "source": [
    "## 3. Edytory tekstowe\n",
    "W trakcie pracy na zdalnym serwerze będziemy często mieli potrzebę edycji zawartości plików tekstowych. Zamiast kopiować te pliki z serwera na lokalny komputer, edytować je lokalnie i następnie zmienione pliki z powrotem umieszczać na serwerze, możemy je edytować bezpośrednio na zdalnej maszynie. Nie będziemy mieć dostępu do aplikacji okienkowych, a jedynie będziemy w stanie wykorzystać edytory tekstowe działające w terminalu.\n",
    "\n",
    "Popularnymi edytorami tekstu są: `nano`, `vi` oraz `vim`. O ile `nano` uchodzi za najprostszy edytor, o tyle `vim` oferuje największy komfort pracy. Edytor ten działa w kilku trybach:\n",
    "- tryb poleceń (ang. *normal mode*) - włączony domyślnie po uruchomieniu vim'a; pozwala: (a) przechodzić w pozostałe tryby, (b) poruszać się po dokumencie (strzałki lub klawisze h, j, k, l), (c) usuwać, przenosić oraz kopiować tekst, \n",
    "- tryb wprowadzania (ang. *insert mode*) - w ten tryb wchodzimy za pomocą klawisza `i`, a wychodzimy za pomocą `Esc`; w tym trybie możemy normalnie wprowadzać/wpisywać tekst,\n",
    "- tryb wizualny (ang. *visual mode*) - pozwala wybierać fragmenty tekstu i wykonywać na nich polecenia\n",
    "\n",
    "Istnieją jeszcze dodatkowe tryby (*select*, *command-line*, *ex-mode*) jednak na razie je pominiemy. "
   ]
  },
  {
   "cell_type": "markdown",
   "id": "fd6e3156",
   "metadata": {},
   "source": [
    "## Zadanie 3.1 (1 pkt)\n",
    "Uruchom edytor `vim` na dowolnum pliku tekstowym, a następnie wykonaj poniższe polecenia:\n",
    "- znajdź podane wyrażenie w tekście\n",
    "- przejdź do podanej linii\n",
    "- podmień pojedynczy znak\n",
    "- podmień podane wyrażenie na inne\n",
    "- zapisz zmiany\n",
    "- wyjdź z vim'a (na dwa sposoby)\n",
    "\n",
    "Zadanie to przećwicz wybierając sobie dowolne wyrażenia, znaki i linie w tekście, przy czym podczas oddawania zadania prowadzący poda własne przykłady."
   ]
  }
 ],
 "metadata": {
  "kernelspec": {
   "display_name": "Python 3 (ipykernel)",
   "language": "python",
   "name": "python3"
  },
  "language_info": {
   "codemirror_mode": {
    "name": "ipython",
    "version": 3
   },
   "file_extension": ".py",
   "mimetype": "text/x-python",
   "name": "python",
   "nbconvert_exporter": "python",
   "pygments_lexer": "ipython3",
   "version": "3.8.9"
  }
 },
 "nbformat": 4,
 "nbformat_minor": 5
}
