{
 "cells": [
  {
   "cell_type": "markdown",
   "id": "b8fa9013",
   "metadata": {},
   "source": [
    "# Zasady laboratorium"
   ]
  },
  {
   "cell_type": "markdown",
   "id": "502769dd",
   "metadata": {},
   "source": [
    "---\n",
    "\n",
    "1.  Kurs można jedynie zaliczyć poprzez wykonywanie list zadań\n",
    "2.  Na  kursie  realizowane  będą  zadania  związane  z  materiałami  podanymi  na  wykładzie\n",
    "3.  Każda lista zadań punktowana jest osobno \n",
    "\n",
    "\n",
    "### Warunki zaliczenia\n",
    "1.  Nie więcej niż jedna nieusprawiedliwiona nieobecność w semestrze. Usprawiedliwienie należy przedstawić na pierwszych zajęciach bezpośrednio po nieobecności.\n",
    "2.  Zgromadzenie ponad 50% punktów za wykonane w ramach kursu zadania.\n",
    "\n",
    "### Ocenianie list\n",
    "Na ocenę wystawioną przez prowadzącego składają się następujące elementy:\n",
    "1.  Wykonanie listy zadanej przez prowadzącego\n",
    "2.  Wiedza teoretyczna (sprawdzana podczas prezentacji list na zajęciach)\n",
    "5.  Samodzielność wykonywania\n",
    "4.  Terminowość prezentowania rozwiązań list zadań\n",
    "    \n",
    "### Proces oddawania listy\n",
    "1. Wysłanie rozwiązania w przed prezentacją na GitHub Classroom\n",
    "1. Zaprezentowanie rozwiązania na zajęciach\n",
    "1. Termin wysłania jest określony dla każdej listy i jest to termin nieprzekraczalny\n",
    "1. W przypadku  nieobecności  na  zajęciach  student  do  rozpoczęcia  zajęć,  na  których  oddawana  jest dana lista zadań powinien wysłać ją za pomocą Github Classroom oraz zaprezentować rozwiązanie na pierwszych zajęciach po nieobecności. W przeciwnym przypadku lista nie będzie sprawdzana\n",
    "1. Za listę wysłaną i zaprezentowaną po terminie do 2 tygodni (następne zajęcia) student otrzymuje 50% punktów\n",
    "1. Za listę wysłaną i zaprezentowaną po terminie ponad 2 tygodnie lub niezaprezentowaną student otrzymuje 0 punktów\n",
    "\n",
    "\n",
    "### Skala oceniania\n",
    "\n",
    "| % pkt | ocena |\n",
    "| --- | :--- |\n",
    "| <50% | brak zaliczenia (2.0)|\n",
    "| \\[50%, 60%\\) | dostateczny (3.0) |\n",
    "| \\[60%, 70%) | dostateczny+ (3.5) |\n",
    "| \\[70%, 80%) | dobry (4.0) |\n",
    "| \\[80%, 90%) | dobry plus (4.5) |\n",
    "| \\[90%, 100%) | bardzo dobry (5.0) |\n",
    "| \\>100% | celujący (5.5) |"
   ]
  },
  {
   "cell_type": "code",
   "execution_count": null,
   "id": "85808f82",
   "metadata": {},
   "outputs": [],
   "source": []
  }
 ],
 "metadata": {
  "kernelspec": {
   "display_name": "Python 3 (ipykernel)",
   "language": "python",
   "name": "python3"
  },
  "language_info": {
   "codemirror_mode": {
    "name": "ipython",
    "version": 3
   },
   "file_extension": ".py",
   "mimetype": "text/x-python",
   "name": "python",
   "nbconvert_exporter": "python",
   "pygments_lexer": "ipython3",
   "version": "3.9.7"
  }
 },
 "nbformat": 4,
 "nbformat_minor": 5
}
