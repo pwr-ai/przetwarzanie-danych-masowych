{
 "cells": [
  {
   "cell_type": "markdown",
   "id": "f148c751",
   "metadata": {},
   "source": [
    "# Laboratorium 8\n",
    "\n",
    "## Implementacja rozproszonego mechanizmu pozyskiwania danych"
   ]
  },
  {
   "cell_type": "markdown",
   "id": "d7a7caff",
   "metadata": {},
   "source": [
    "Niniejszym laboratorium rozpoczynamy część zajęć poświęconą budowaniu spójnego potoku masowego przetwarzania danych. Na kolejnych zajęciach będziemy rozbudowywali stworzony dziś moduł i dokładali do niego kolejne elementy.\n",
    "\n",
    "Diagram planowanego systemu wygląda następująco:  \n",
    "![image](../data/project_flow_chart_L8.png)\n",
    "\n",
    "Aktualnie będziemy implementować zakres Etapu I"
   ]
  },
  {
   "cell_type": "markdown",
   "id": "d0a8149a",
   "metadata": {},
   "source": [
    "### Zadanie 8.1: pozyskiwanie danych (5 pkt)  \n",
    "\n",
    "Używając zdobytej dotychczas wiedzy, stwórz task Celery, którego zadaniem będzie pobieranie aktualnych wpisów z mikrobloga serwisu Wykop.pl\n",
    "\n",
    "Możesz:  \n",
    "a) uzyskać dostęp do API: [dokumentacja](https://www.wykop.pl/dla-programistow/apiv2/)  \n",
    "b) stworzyć mechanizm scrapowania\n",
    "\n",
    "Pozyskaj dane z [najnowszych wpisów](https://www.wykop.pl/mikroblog/aktywne/) lub wpisów dotyczących [konkretnego tagu](https://www.wykop.pl/tag/wpisy/wroclaw/) - wybór tagu wedle uznania\n",
    "\n",
    "Pozyskaj dane w formie pojedynczych wpisów. Zadbaj o zebranie:\n",
    "* treści wpisu\n",
    "* daty utworzenia\n",
    "* nazwy autora wpisu \n",
    "* liczby plusów\n",
    "* liczby odpowiedzi\n",
    "\n"
   ]
  },
  {
   "cell_type": "markdown",
   "id": "def320a0",
   "metadata": {},
   "source": [
    "### Zadanie 8.2: ciągłość procesu (2 pkt)\n",
    "\n",
    "Zadbaj o ciągłość pobierania danych:  \n",
    "* ustal odpowiedni interwał pojawiania się nowych danych  \n",
    "* użyj mechanizmu [celery-beat](https://docs.celeryproject.org/en/stable/userguide/periodic-tasks.html) by stworzyć mechanizm harmonogramowania tasków, który umożliwi pobieranie nowych wpisów\n"
   ]
  },
  {
   "cell_type": "markdown",
   "id": "0943d5bd",
   "metadata": {},
   "source": [
    "### Zadanie 8.3: monitoring (5 pkt)\n",
    "\n",
    "Dodaj możliwość monitorowania procesu pobierania danych:  \n",
    "* dodaj do docker-compose instancję bazy danych, np. [Prometheus](https://prometheus.io/) lub [InfluxDB](https://www.influxdata.com/)\n",
    "* dodaj do docker-compose instancję [Grafany](https://grafana.com/grafana/download?pg=get&plcmt=selfmanaged-box1-cta1&platform=docker) ([materiały z PDIOW](https://pwr-ai.github.io/przetwarzanie-danych-i-odkrywanie-wiedzy/laboratoria/lab6-produktyzacja.html#grafana-ladniejsze-wykresy-wiecej-mozliwosci))\n",
    "* alternatywnie do w/w, możesz użyć [wersji chmurowej Grafany](https://grafana.com/get/?plcmt=top-nav&cta=downloads)\n",
    "* zadbaj o zbieranie statystyk ze skryptu pobierającego dane. Przykłady zapisu danych w [Prometheusie](https://github.com/prometheus/client_python#exporting-to-a-pushgateway) i [Influxie](https://docs.influxdata.com/influxdb/v2.1/api-guide/client-libraries/python/)\n",
    "* stwórz odpowiednie dashboardy ilustrujące proces zbierania danych. Stwórz *co najmniej* wykresy:\n",
    " - średniego czasu pobierania danych\n",
    " - ilości pobranych danych w czasie\n",
    " - histogram liczby plusów i odpowiedzi\n",
    " \n",
    "\n",
    "\n"
   ]
  },
  {
   "cell_type": "code",
   "execution_count": null,
   "id": "a6892ace",
   "metadata": {},
   "outputs": [],
   "source": []
  }
 ],
 "metadata": {
  "kernelspec": {
   "display_name": "Python 3 (ipykernel)",
   "language": "python",
   "name": "python3"
  },
  "language_info": {
   "codemirror_mode": {
    "name": "ipython",
    "version": 3
   },
   "file_extension": ".py",
   "mimetype": "text/x-python",
   "name": "python",
   "nbconvert_exporter": "python",
   "pygments_lexer": "ipython3",
   "version": "3.9.7"
  }
 },
 "nbformat": 4,
 "nbformat_minor": 5
}
