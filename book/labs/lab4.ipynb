{
 "cells": [
  {
   "cell_type": "markdown",
   "id": "753e603a",
   "metadata": {},
   "source": [
    "# Laboratorium 4\n",
    "## Ewaluacja metod zrównoleglania zadań - Python, wątki i procesy"
   ]
  },
  {
   "cell_type": "markdown",
   "id": "fa0767fc",
   "metadata": {},
   "source": [
    "W trakcie trzeciego wykładu wspominaliśmy o tym, że z perspektywy programisty mamy kilka sposobów zrównoleglania obliczeń. Głównie są to **wątki** i **procesy**. Staramy się używać wątków m.in. ze względu na krótszy czas tworzenia oraz współdzieloną pamięć, której nie mamy bezpośrednio dostępnej w procesach. Tworzenie procesu jest również bardziej czasochłonne, ponieważ wymaga ono większej interakcji z jądrem systemowym oraz utworzenia kopii przestrzeni pamięci."
   ]
  },
  {
   "cell_type": "markdown",
   "id": "8e969a1d",
   "metadata": {},
   "source": [
    "Przez wiele lat używanie wątków w Pythonie nie było polecaną metodą ze względu na tzw. **Global Interpreter Lock** (GIL). Implementacja Pythona wymagała, aby w danym momencie tylko jeden wątek na raz miał dostęp do GILa. Takie założenie powoduje, że zrównoleglanie za pomocą wątków było wolniejsze niż za pomocą procesów."
   ]
  },
  {
   "cell_type": "markdown",
   "id": "0da7bed1",
   "metadata": {},
   "source": [
    "W trakcie obecnego laboratorium będziemy porównywać czasy działania różnych metod zrównoleglania i przyspieszania obliczeń w języku Python. Zaimplementujemy kilka wersji modelu regresji liniowej."
   ]
  },
  {
   "cell_type": "markdown",
   "id": "49467954",
   "metadata": {},
   "source": [
    "## Zadanie 4.1. (1 pkt)\n",
    "W pliku `scripts/generate_data.py` zaimplementuj funkcję `generate_data()`, która wygeneruje zadaną liczbę `num_samples` próbek danych. Każda próbka $(x_i, y_i)$ powinna być opisana przez dwie liczby rzeczywiste, które są ze sobą związane poprzez wybraną funkcję liniową, np. $y_i = 2x_i + 5$ (lub inną klasę funkcji, którą dopasować za pomocą regresji liniowej).\n",
    "\n",
    "Następnie zaimplementuj funkcję `main()` w taki sposób, aby wywołanie skryptu:\n",
    "```bash\n",
    "$ python3 scripts/generate_data.py --num-samples <num-samples> --out-dir </path/to/datasets/>\n",
    "```\n",
    "wygenerowało zbiór danych składający się z `<num-samples>` instancji i zapisało w katalogu `</path/to/datasets/>` plik o nazwie `<num-samples>.pkl` (bądź innym rozszerzeniu)."
   ]
  },
  {
   "cell_type": "markdown",
   "id": "f9f159ac",
   "metadata": {},
   "source": [
    "## Zadanie 4.2. (4 pkt)\n",
    "Zaimplementuj model regresji liniowej na 4 sposoby:\n",
    "- `lr/lr_seq.py` - implementacja wykorzystująca sekwencyjne obliczenia (bez używania zewnętrznych bibliotek (typu NumPy, SciPy); kod ten będzie używany jako metoda referencyjna,\n",
    "- `lr/lr_np.py` - implementacja obliczająca współczynniki regresji liniowej za pomocą biblioteki NumPy,\n",
    "- `lr/lr_thread.py` - implementacja dzieląca dane na mniejsze paczki (ang. *batch*), obliczająca równolegle (za pomocą wątków) pośrednie wartości i agregująca je do końcowego wyliczenia współczynników regresji,\n",
    "- `lr/lr_proc.py` - implementacja jak w przypadku `lr/lr_thread.py`, ale wykorzystująca procesy zamiast wątków."
   ]
  },
  {
   "cell_type": "markdown",
   "id": "bb6aa8e8",
   "metadata": {},
   "source": [
    "## Zadanie 4.3. (5 pkt)\n",
    "Uzupełnij implementację skryptu `scripts/run_experiments.py`:\n",
    "- wczytaj zbiory danych z katalogu podanego w wywołaniu skryptu,\n",
    "- uruchom każdą z zaimplementowanych wersji regresji liniowej na każdym ze zbiorów danych, pamiętając o odpowiednim sposobie pomiaru czasu oraz kilkukrotnym powtórzeniu pomiarów\n",
    "- zbierz wyniki i zapisz je w pliku JSON (`data/time_measurements.json`)\n",
    "- wygeneruj wykres pozwalający porównać szybkość działania każdej metody (`data/comparison.png`)\n",
    "- wygeneruj wykres zależności liczby wątków / procesów a czasu działania skryptu (`data/scaling.png`)"
   ]
  },
  {
   "cell_type": "markdown",
   "id": "786d4454",
   "metadata": {},
   "source": [
    "## Zadanie 4.4. (1 pkt)\n",
    "Napisz skrypt Bashowy (`run_all.sh`), który:\n",
    "- wygeneruje kilka zbiorów danych o różnej liczbie instancji\n",
    "- uruchomi eksperymenty"
   ]
  },
  {
   "cell_type": "markdown",
   "id": "132f54da",
   "metadata": {},
   "source": [
    "## Zadanie 4.5 (1 pkt)\n",
    "Zapewnij, że zaimplementowany kod spełnia podstawowe warunki pod względem:\n",
    "- jakości kodu `tox -e pep8`\n",
    "- testów jednostkowych dot. modeli regresji liniowej `tox -e unit`"
   ]
  }
 ],
 "metadata": {
  "kernelspec": {
   "display_name": "Python 3 (ipykernel)",
   "language": "python",
   "name": "python3"
  },
  "language_info": {
   "codemirror_mode": {
    "name": "ipython",
    "version": 3
   },
   "file_extension": ".py",
   "mimetype": "text/x-python",
   "name": "python",
   "nbconvert_exporter": "python",
   "pygments_lexer": "ipython3",
   "version": "3.9.7"
  }
 },
 "nbformat": 4,
 "nbformat_minor": 5
}
