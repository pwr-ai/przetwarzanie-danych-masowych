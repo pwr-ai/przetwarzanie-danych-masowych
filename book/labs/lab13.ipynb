{
 "cells": [
  {
   "cell_type": "markdown",
   "metadata": {},
   "source": [
    "# Laboratorium 13\n",
    "\n",
    "## Udostępnienie opracowanego modelu za pomocą gRPC"
   ]
  },
  {
   "cell_type": "markdown",
   "metadata": {},
   "source": [
    "Przypomnijmy diagram planowanego systemu:\n",
    "![image](../data/project_flow_chart_L10.png)\n",
    "\n",
    "W trakcie obecnego laboratorium zaczniemy prace nad Etapem IV.\n",
    "\n",
    "Wykorzystując  język Python udostępnimy opracowany model za pomocą gRPC\n",
    "\n",
    "* [Basics](https://grpc.io/docs/languages/python/basics/)\n",
    "* [API Docs](https://grpc.github.io/grpc/python/)"
   ]
  },
  {
   "cell_type": "markdown",
   "metadata": {},
   "source": [
    "### Zadanie 13.0: Zapoznaj się z przykładowym projektem\n",
    "Zapoznaj się z przykładowym projektem oraz jego readme (znajdują się tam potrzebne komendy). Co dzieje się w projekcie? Jaki kod jest generowany oraz jak jest wykorzystywany? "
   ]
  },
  {
   "cell_type": "markdown",
   "metadata": {},
   "source": [
    "### Zadanie 13.1: Przygotowanie definicji API (5 pkt)\n",
    "Przygotuj plik proto, zawierający definicję odpowiedniego serwisu wraz z metodą oraz odpowiednimi typami wejściowymi i wyjściowymi które pozwolą na ocenę ilości plusów które otrzyma wpis o zadanej treści. Pamiętaj o odpowiedniej modyfikacji kroku POE w pliku pyproject.toml (budowanie odpowiedniego pliku proto, domyślnie jest to sample) "
   ]
  },
  {
   "cell_type": "markdown",
   "metadata": {},
   "source": [
    "### Zadanie 13.2: Implementacja serwera oraz klienta (10 pkt)\n",
    "Zaimplementuj serwer oraz klienta wykorzystując wygenerowane definicje. Przygotuj przykładowe wywołania metod serwera za pomocą klienta"
   ]
  },
  {
   "cell_type": "markdown",
   "metadata": {},
   "source": [
    "### Zadanie 13.3: Implementacja serwera oraz klienta (15 pkt)\n",
    "Przygotuj obraz docker oraz chart helm oraz uruchom rozwiązanie na klasterze k3s."
   ]
  }
 ],
 "metadata": {
  "kernelspec": {
   "display_name": "Python 3 (ipykernel)",
   "language": "python",
   "name": "python3"
  },
  "language_info": {
   "codemirror_mode": {
    "name": "ipython",
    "version": 3
   },
   "file_extension": ".py",
   "mimetype": "text/x-python",
   "name": "python",
   "nbconvert_exporter": "python",
   "pygments_lexer": "ipython3",
   "version": "3.10.1-final"
  }
 },
 "nbformat": 4,
 "nbformat_minor": 5
}