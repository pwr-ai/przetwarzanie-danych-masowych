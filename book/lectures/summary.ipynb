{
 "cells": [
  {
   "cell_type": "markdown",
   "metadata": {},
   "source": [
    "# Slajdy z wykładów"
   ]
  },
  {
   "cell_type": "markdown",
   "metadata": {},
   "source": [
    "## Plan kursu\n",
    "---\n",
    "| Nr | Temat | Data | Link do slajdów | \n",
    "| --- | :--- | :---: |  :---: | \n",
    "| 1 | Wprowadzenie do problemu przetwarzania danych masowych. Zasady zaliczenia. | 2021-10-04 | [W1](https://raw.githubusercontent.com/pwr-ai/przetwarzanie-danych-masowych/master/book/lectures/W1.pdf) | \n",
    "| 2 | Taksonomia metod przetwarzania danych masowych | 2021-10-11 | [W2](https://raw.githubusercontent.com/pwr-ai/przetwarzanie-danych-masowych/master/book/lectures/W2.pdf) | \n",
    "| 3 | Podstawowe metody zrównoleglania algorytmów uczenia maszynowego.  Przetwarzanie synchroniczne i asynchroniczne | 2021-10-18 | [W3](https://raw.githubusercontent.com/pwr-ai/przetwarzanie-danych-masowych/master/book/lectures/W3.pdf) |\n",
    "| 4 | Spark - przetwarzanie danych z wykorzystaniem paradygmatu Map-reduce - przetwarzanie wsadowe | 2021-10-25 | [W4](https://raw.githubusercontent.com/pwr-ai/przetwarzanie-danych-masowych/master/book/lectures/W4.pdf)|\n",
    "| 5 | Spark - przetwarzanie danych z wykorzystaniem paradygmatu Map-reduce - przetwarzanie strumieniowe | 2021-11-08 | [W5](https://raw.githubusercontent.com/pwr-ai/przetwarzanie-danych-masowych/master/book/lectures/W5.pdf) |\n",
    "| 6 | Flink - przetwarzanie danych w sposób strumieniowy | 2021-11-22 | [W6](https://raw.githubusercontent.com/pwr-ai/przetwarzanie-danych-masowych/master/book/lectures/W6.pdf)  |\n",
    "| 7 | Flink - przetwarzanie danych w sposób wsadowy | 2021-11-29 | [W7](https://raw.githubusercontent.com/pwr-ai/przetwarzanie-danych-masowych/master/book/lectures/W7.pdf)  |\n",
    "| 8 | Produkcyjne aspekty utrzymywania i wdrażania aplikacjami | 2021-12-06 | |\n",
    "| 9 | Platformy zarządzania zasobami obliczeniowymi - wprowadzenie, OpenStack | 2021-12-13 | |\n",
    "| 10 | Platformy zarządzania zasobami obliczeniowymi - Kubernetes | 2021-12-15 | |\n",
    "| 11 | Metody automatyzacji zarządzania produkcyjnymi aplikacjami | 2022-01-03 | |\n",
    "| 12 | Języki do przetwarzania danych masowych | 2022-01-10 | |\n",
    "| 13 | Przykładowe metody z rodziny Gradient Boosting Machine | 2022-01-17 | |\n",
    "| 14 | Zaawansowane metody zrównoleglania algorytmów uczenia maszynowego | 2022-01-24 | |\n",
    "| 15 | Recap - podsumowanie wykładu | 2022-01-31 | |"
   ]
  },
  {
   "cell_type": "markdown",
   "metadata": {},
   "source": [
    "### Kontakt do prowadzących\n",
    "* tomasz.kajdanowicz@pwr.edu.pl\n",
    "* roman.bartusiak@pwr.edu.pl\n",
    "* piotr.bielak@pwr.edu.pl"
   ]
  }
 ],
 "metadata": {
  "kernelspec": {
   "display_name": "Python 3 (ipykernel)",
   "language": "python",
   "name": "python3"
  },
  "language_info": {
   "codemirror_mode": {
    "name": "ipython",
    "version": 3
   },
   "file_extension": ".py",
   "mimetype": "text/x-python",
   "name": "python",
   "nbconvert_exporter": "python",
   "pygments_lexer": "ipython3",
   "version": "3.9.7"
  }
 },
 "nbformat": 4,
 "nbformat_minor": 5
}