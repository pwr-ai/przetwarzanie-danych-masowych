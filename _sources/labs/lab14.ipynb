{
 "cells": [
  {
   "cell_type": "markdown",
   "metadata": {},
   "source": [
    "# Laboratorium 14\n",
    "\n",
    "## Udostępnienie aplikacji SPA do predykcji popularności"
   ]
  },
  {
   "cell_type": "markdown",
   "metadata": {},
   "source": [
    "Przypomnijmy diagram planowanego systemu:\n",
    "![image](../data/project_flow_chart_L10.png)\n",
    "\n",
    "W trakcie obecnego laboratorium zakończymy prace nad Etapem IV.\n",
    "\n",
    "Wykorzystując  język Python udostępnimy opracowany model jako aplikację SPA za pomocą GraphQL\n",
    "\n",
    "\n",
    "* [Backend - Ariadne](https://ariadnegraphql.org/)\n",
    "* [Frontend - Apollo](https://www.apollographql.com/docs/react/)"
   ]
  },
  {
   "cell_type": "markdown",
   "metadata": {},
   "source": [
    "### Zadanie 14.0: Zapoznaj się z przykładowym projektem\n",
    "Zapoznaj się z przykładowym projektem oraz jego readme (znajdują się tam potrzebne komendy). Co dzieje się w projekcie? Jak odbywa się komunikacja? Czym jest schemat GraphQL? "
   ]
  },
  {
   "cell_type": "markdown",
   "metadata": {},
   "source": [
    "### Zadanie 14.1: Przygotowanie definicji API (5 pkt)\n",
    "Zaktualizuj plik schema, stwórz odpowiednie zapytanie oraz zdefiniuj odpowiednie typy dla zadania predykcji popularności."
   ]
  },
  {
   "cell_type": "markdown",
   "metadata": {},
   "source": [
    "### Zadanie 14.2: Implementacja serwera oraz SPA (10 pkt)\n",
    "Zaimplementuj resolver dla swojego zapytania (wykorzystaj klienta gRPC z poprzedniej listy), stwórz frontend do jego wywoływania. "
   ]
  },
  {
   "cell_type": "markdown",
   "metadata": {},
   "source": [
    "### Zadanie 14.3: Uruchomienie (5 pkt)\n",
    "Przygotuj obraz docker oraz chart helm oraz uruchom rozwiązanie na klasterze k3s."
   ]
  }
 ],
 "metadata": {
  "kernelspec": {
   "display_name": "Python 3 (ipykernel)",
   "language": "python",
   "name": "python3"
  },
  "language_info": {
   "codemirror_mode": {
    "name": "ipython",
    "version": 3
   },
   "file_extension": ".py",
   "mimetype": "text/x-python",
   "name": "python",
   "nbconvert_exporter": "python",
   "pygments_lexer": "ipython3",
   "version": "3.10.1-final"
  }
 },
 "nbformat": 4,
 "nbformat_minor": 5
}