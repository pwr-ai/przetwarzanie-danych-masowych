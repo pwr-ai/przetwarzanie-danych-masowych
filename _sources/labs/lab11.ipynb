{
 "cells": [
  {
   "cell_type": "markdown",
   "id": "ccc7a647",
   "metadata": {},
   "source": [
    "# Laboratorium 11\n",
    "\n",
    "## Wykorzystanie rozwiązania Kubernetes w przetwarzaniu danych masowych - K3d"
   ]
  },
  {
   "cell_type": "markdown",
   "id": "38adc9cc",
   "metadata": {},
   "source": [
    "Przypomnijmy diagram planowanego systemu::\n",
    "![image](../data/project_flow_chart_L10.png)\n",
    "\n",
    "W trakcie obecnego laboratorium rozpoczniemy przygotowania do Etapu IV.\n",
    "\n",
    "Zapoznamy się dzisiaj z platformą Kubernetes oraz narzędziem Helm i zobaczymy w jaki sposób uruchamiać na Kubernetesie aplikacje."
   ]
  },
  {
   "cell_type": "markdown",
   "id": "c712e8cc",
   "metadata": {},
   "source": [
    "### Kubernetes\n",
    "Jest to platforma do zarządzania zasobami obliczeniowymi, utworzona przez Google'a. Kubernetes (K8s) zarządza kontenerami (np. Dockerowymi), przy czym najmniejszą jednostką operacyjną w K8s jest tzw. **pod**. Pod może składać się z wielu kontenerów i wolumenów dyskowych, jednak wybór liczby składowych poda jest zależny od konkretnego zastosowania. Najczęściej przyjmuje się, że jeden pod zawiera jedną aplikację - np. jeśli dana usługa zawsze wymaga własnej kopii innej usługi (np. narzędzia monitorującego) to warto te dwie usługi umieścić w jednym podzie. W naszych rozważaniach będziemy jednak przyjmować, że w jednym podzie zawsze będzie działać tylko jeden kontener oraz opcjonalnie jeden lub wiele wolumenów danych.\n",
    "\n",
    "\n",
    "Pod względem architektury klaster Kubernetesowy składa się z węzłów typu:\n",
    "- **master** - odpowiedzialne za zarządzanie klastrem, przyjmowanie nowych żądań od użytkownika, kontrolę uruchomionych podów itd.; w klastrze może działać wiele węzłów typu master, ale na nasze potrzeby wystarczy nam dokładnie jeden taki węzeł,\n",
    "- **worker** - węzły, na których uruchamiają się właściwe zadania (pody); zazwyczaj klastry Kubernetesowe posiadają wiele (dziesiątki, setki) węzłów typu worker, ale w naszym przypadku uruchomimy tylko dwie instancje."
   ]
  },
  {
   "cell_type": "markdown",
   "id": "7a311bd7",
   "metadata": {},
   "source": [
    "### Zadanie 11.1: instalacja klastra K3s (4 pkt)\n",
    "K3s jest uproszczoną wersją Kubernetesa, która jest znacząco łatwiejsza w instalacji. Wśród zasadnicznych zmian znajdziemy użycie bazy danych SQLite zamiast ETCD oraz ogranicznie funkcjonalności do minimum. W celu lokalnego uruchomienia bazowego klastra Kubernetesowego wykorzystamy jednak narzędzie K3d, które pozwala uruchomić Kubernetesa wewnątrz kontenerów Dockerowych.\n",
    "\n",
    "a) Przeczytaj wprowadzenie do narzędzia K3d - [link](https://github.com/rancher/k3d)\n",
    "\n",
    "b) Upewnij się, że masz zainstalowanego Dockera w systemie.\n",
    "\n",
    "c) Zainstaluj narzędzie `k3d` (sposób instalacji zależy od konkretnego systemu operacyjnego).\n",
    "\n",
    "d) Uruchom klaster składający się z jednego węzła typu master oraz co najmniej dwóch węzłów typu worker (zobacz [link](https://github.com/rancher/k3d#usage)): `k3d cluster create <NAZWA_KLASTRA> --agents 2`\n",
    "\n",
    "e) Sprawdź, że zawartość pliku `~/.kube/config` wskazuje na nowo utworzony klaster.\n",
    "\n",
    "f) Zainstaluj narzędzie `kubectl` (sposób instalacji zależy od konkretnego systemu operacyjnego) i sprawdź czy możesz się połączyć z utworzonym klastrem."
   ]
  },
  {
   "cell_type": "markdown",
   "id": "d9f3cc2e",
   "metadata": {},
   "source": [
    "### Zadanie 11.2: Obiekty Kubernetesowe (5 pkt)\n",
    "Wykorzystaj załączone w repozytorium (katalog: `plain_manifests`) manifesty Kubernetesowe:\n",
    "- zainstaluj obiekty opisane przez manifesty w klastrze\n",
    "- sprawdź czy wszystko zostało poprawnie zainstalowane\n",
    "- wyjaśnij co każdy tych manifestów robi\n",
    "- usuń (odinstaluj) uruchomione obiekty z klastra"
   ]
  },
  {
   "cell_type": "markdown",
   "id": "6d8ccaa0",
   "metadata": {},
   "source": [
    "### Zadanie 11.3: Helm (5 pkt)\n",
    "Helm ([dokumentacja](https://helm.sh/docs/)) pozwala zautomatyzować proces uruchamiania aplikacji w klastrze Kubernetesowym (więcej o tym narzędziu na kolejnym wykładzie). Jest to menadżer paczek dla Kubernetesa – dostarcza wiele gotowych paczek dla typowych aplikacji (np. MongoDB, Redash), ale można również zdefiniować własne tzw. **charty** Helmowe dla naszych aplikacji.\n",
    "\n",
    "Możemy zauważyć, że w manifestach K8s'owych wszystkie wartości (w tym nazwy) obiektów są zapisane na stałe. Jeśli byśmy chcieli uruchomić identyczny obiekt dla innej aplikacji w klastrze, musielibyśmy ręcznie zmienić jego nazwę, co w perspektywie bardziej złożonych aplikacji jest trudne i czasochłonne. Helm dostarcza silnik szablonów, który pozwala zamienić na stałe zapisane wartości w manifestach na szablony (ang. *template*), które są uzupełniane przez Helma w trakcie instalacji danego obiektu (zobacz poniżej).\n",
    "\n",
    "Dodatkowo Helm wspiera i automatyzuje proces wdrażania, poprzez m.in. rolling updates oraz przywracanie zmian (*rollback*).\n",
    "\n",
    "\n",
    "a) Zainstaluj narzędzie Helm CLI\n",
    "\n",
    "b) Wykorzystaj załączony w repozytorium (katalog: `helm`) przykładowy chart Helmowy:\n",
    "- zainstaluj go w klastrze\n",
    "- sprawdź czy aplikacja działa i czy wszystkie obiekty zostały poprawnie zainstalowane,\n",
    "- usuń chart z klastra\n",
    "\n",
    "c) Wyjaśnij w jaki sposób wartości zapisane w pliku `values.yaml` są używane wewnątrz manifestów\n",
    "\n",
    "d) W jaki sposób wykorzystać gotowe paczki (charty) Helmowe?"
   ]
  }
 ],
 "metadata": {
  "kernelspec": {
   "display_name": "Python 3 (ipykernel)",
   "language": "python",
   "name": "python3"
  },
  "language_info": {
   "codemirror_mode": {
    "name": "ipython",
    "version": 3
   },
   "file_extension": ".py",
   "mimetype": "text/x-python",
   "name": "python",
   "nbconvert_exporter": "python",
   "pygments_lexer": "ipython3",
   "version": "3.7.10"
  }
 },
 "nbformat": 4,
 "nbformat_minor": 5
}
