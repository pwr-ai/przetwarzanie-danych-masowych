{
 "cells": [
  {
   "cell_type": "markdown",
   "id": "b8fa9013",
   "metadata": {},
   "source": [
    "# Zasady laboratorium"
   ]
  },
  {
   "cell_type": "markdown",
   "id": "3447e81c",
   "metadata": {},
   "source": [
    "## Plan kursu\n",
    "---\n",
    "| Nr lab. | Temat laboratorium | Data grup piątkowych - KR | Data grup wtorkowych - RB | \n",
    "| --- | :--- | :---: | :---: | \n",
    "| 1 | Wprowadzenie do zajęć | 2021-10-08 | - | \n",
    "| 2 | Podstawy wykorzystania infrastruktury chmurowej - Unix, Shell | 2021-10-15 | - | \n",
    "| 3 | Podstawy wykorzystania kontenerów - Docker, containerd | 2021-10-22 | - | \n",
    "| 4 | Ewaluacja metod zrównoleglania zadań - Python, wątki i procesy | 2021-10-29 | - |\n",
    "| 5 | Wykorzystanie przetwarzania opartego o broker wiadomości | 2021-11-05 | - | \n",
    "| 6 | Wykorzystanie podejścia MapReduce w przetwarzaniu danych masowych - Spark | 2021-11-19 | - |  \n",
    "| 7 | Wykorzystanie podejścia MapReduce w przetwarzaniu danych masowych - Flink | 2021-11-26 | - | \n",
    "| 8 | Implementacja rozproszonego mechanizmu pozyskiwania danych | 2021-12-03 | * | \n",
    "| 9 | Implementacja mechanizmu czyszczenia i ekstrakcji cech | 2021-12-10 | * | \n",
    "| 10 | Wybór i ewaluacja modeli uczenia maszynowego | 2021-12-14 | * | \n",
    "| 11 | Wykorzystanie rozwiązania Kubernetes w przetwarzaniu danych masowych - K3S | 2021-12-17 | * | \n",
    "| 12 | Uruchomienie opracowanej metody z wykorzystaniem środowiska Kubernetes | 2022-01-05 | * | \n",
    "| 13 | Udostępnienie opracowanej metody - API gRPC | 2022-01-14 | * | \n",
    "| 14 | Wykorzystanie opracowanej metody - API REST/GraphQL + SPA | 2022-01-21 | * | \n",
    "| 15 | Prezentacja całościowego rozwiązania | 2022-01-28 | * | "
   ]
  },
  {
   "cell_type": "markdown",
   "id": "502769dd",
   "metadata": {},
   "source": [
    "## Zasady laboratorium\n",
    "---\n",
    "\n",
    "1.  Kurs można jedynie zaliczyć poprzez wykonywanie list zadań\n",
    "2.  Na  kursie  realizowane  będą  zadania  związane  z  materiałami  podanymi  na  wykładzie\n",
    "3.  Każda lista zadań punktowana jest osobno \n",
    "\n",
    "\n",
    "### Warunki zaliczenia\n",
    "1.  Nie więcej niż jedna nieusprawiedliwiona nieobecność w semestrze. Usprawiedliwienie należy przedstawić na pierwszych zajęciach bezpośrednio po nieobecności.\n",
    "2.  Zgromadzenie ponad 50% punktów za wykonane w ramach kursu zadania.\n",
    "\n",
    "### Ocenianie list\n",
    "Na ocenę wystawioną przez prowadzącego składają się następujące elementy:\n",
    "1.  Wykonanie listy zadanej przez prowadzącego\n",
    "2.  Wiedza teoretyczna (sprawdzana podczas prezentacji list na zajęciach)\n",
    "5.  Samodzielność wykonywania\n",
    "4.  Terminowość prezentowania rozwiązań list zadań\n",
    "    \n",
    "### Proces oddawania listy\n",
    "1. Wysłanie rozwiązania w przed prezentacją na GitHub Classroom\n",
    "1. Zaprezentowanie rozwiązania na zajęciach\n",
    "1. Termin wysłania jest określony dla każdej listy i jest to termin nieprzekraczalny\n",
    "1. W przypadku  nieobecności  na  zajęciach  student  do  rozpoczęcia  zajęć,  na  których  oddawana  jest dana lista zadań powinien wysłać ją za pomocą Github Classroom oraz zaprezentować rozwiązanie na pierwszych zajęciach po nieobecności. W przeciwnym przypadku lista nie będzie sprawdzana\n",
    "1. Za listę wysłaną i zaprezentowaną po terminie do 2 tygodni (następne zajęcia) student otrzymuje 50% punktów\n",
    "1. Za listę wysłaną i zaprezentowaną po terminie ponad 2 tygodnie lub niezaprezentowaną student otrzymuje 0 punktów\n",
    "\n",
    "\n",
    "### Skala oceniania\n",
    "\n",
    "| % pkt | ocena |\n",
    "| --- | :--- |\n",
    "| <50% | brak zaliczenia (2.0)|\n",
    "| \\[50%, 60%\\) | dostateczny (3.0) |\n",
    "| \\[60%, 70%) | dostateczny+ (3.5) |\n",
    "| \\[70%, 80%) | dobry (4.0) |\n",
    "| \\[80%, 90%) | dobry plus (4.5) |\n",
    "| \\[90%, 100%) | bardzo dobry (5.0) |\n",
    "| \\>100% | celujący (5.5) |\n",
    "\n"
   ]
  },
  {
   "cell_type": "markdown",
   "id": "1c9d9b7c",
   "metadata": {},
   "source": [
    "### Kontakt do prowadzących\n",
    "* roman.bartusiak@pwr.edu.pl\n",
    "* krzysztof.rajda@pwr.edu.pl"
   ]
  },
  {
   "cell_type": "code",
   "execution_count": null,
   "id": "200a22b0",
   "metadata": {},
   "outputs": [],
   "source": []
  }
 ],
 "metadata": {
  "kernelspec": {
   "display_name": "Python 3 (ipykernel)",
   "language": "python",
   "name": "python3"
  },
  "language_info": {
   "codemirror_mode": {
    "name": "ipython",
    "version": 3
   },
   "file_extension": ".py",
   "mimetype": "text/x-python",
   "name": "python",
   "nbconvert_exporter": "python",
   "pygments_lexer": "ipython3",
   "version": "3.9.7"
  }
 },
 "nbformat": 4,
 "nbformat_minor": 5
}
